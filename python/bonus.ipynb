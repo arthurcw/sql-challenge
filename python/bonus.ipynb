{
 "cells": [
  {
   "cell_type": "code",
   "execution_count": 1,
   "metadata": {},
   "outputs": [],
   "source": [
    "%matplotlib inline\n",
    "\n",
    "# import dependencies\n",
    "import math\n",
    "import numpy as np\n",
    "import pandas as pd\n",
    "import matplotlib.pyplot as plt\n",
    "from sqlalchemy import create_engine\n",
    "\n",
    "# employee database info\n",
    "from config import pw\n",
    "from config import user\n",
    "db_loc = 'localhost:5432'\n",
    "db_name = 'SQL_HW'"
   ]
  },
  {
   "cell_type": "code",
   "execution_count": 2,
   "metadata": {},
   "outputs": [],
   "source": [
    "# create database connection\n",
    "engine = create_engine(f\"postgresql+psycopg2://{user}:{pw}@{db_loc}/{db_name}\")\n",
    "connection = engine.connect()"
   ]
  },
  {
   "cell_type": "code",
   "execution_count": 3,
   "metadata": {},
   "outputs": [],
   "source": [
    "# read data into pandas dataframe\n",
    "df_employees = pd.read_sql(\"SELECT * FROM employees\", connection)\n",
    "df_salaries = pd.read_sql(\"SELECT * FROM salaries\", connection)\n",
    "df_titles = pd.read_sql(\"SELECT * FROM titles\", connection)"
   ]
  },
  {
   "cell_type": "code",
   "execution_count": 4,
   "metadata": {},
   "outputs": [
    {
     "data": {
      "text/plain": [
       "count    300024.000000\n",
       "mean      52970.732451\n",
       "std       14301.478491\n",
       "min       40000.000000\n",
       "25%       40000.000000\n",
       "50%       48681.000000\n",
       "75%       61758.000000\n",
       "max      129492.000000\n",
       "Name: salary, dtype: float64"
      ]
     },
     "execution_count": 4,
     "metadata": {},
     "output_type": "execute_result"
    }
   ],
   "source": [
    "# salary statistics\n",
    "df_salaries['salary'].describe()"
   ]
  },
  {
   "cell_type": "markdown",
   "metadata": {},
   "source": [
    "## Histogram for salary range"
   ]
  },
  {
   "cell_type": "code",
   "execution_count": 5,
   "metadata": {},
   "outputs": [
    {
     "data": {
      "image/png": "[encoded data removed]",
      "text/plain": [
       "<Figure size 576x432 with 1 Axes>"
      ]
     },
     "metadata": {
      "needs_background": "light"
     },
     "output_type": "display_data"
    }
   ],
   "source": [
    "# histogram for salary range\n",
    "fig = plt.figure(figsize=(8,6))\n",
    "\n",
    "# bin size\n",
    "bin = np.arange(math.floor(df_salaries['salary'].min()/10000)*10000,\n",
    "                math.ceil(df_salaries['salary'].max()/10000)*10000 + 10000,\n",
    "                10000)\n",
    "\n",
    "# create plot\n",
    "plt.hist(df_salaries['salary'], bins=bin)\n",
    "plt.title('Salary Range for Employees')\n",
    "plt.xlabel('Salary ($)')\n",
    "plt.ylabel('Count')\n",
    "\n",
    "# save and plot\n",
    "plt.tight_layout()\n",
    "plt.savefig('salary_histogram.png')\n",
    "plt.show()"
   ]
  },
  {
   "cell_type": "markdown",
   "metadata": {},
   "source": [
    "## Bar Chart for average salary by title"
   ]
  },
  {
   "cell_type": "code",
   "execution_count": 6,
   "metadata": {},
   "outputs": [
    {
     "data": {
      "text/html": [
       "<div>\n",
       "<style scoped>\n",
       "    .dataframe tbody tr th:only-of-type {\n",
       "        vertical-align: middle;\n",
       "    }\n",
       "\n",
       "    .dataframe tbody tr th {\n",
       "        vertical-align: top;\n",
       "    }\n",
       "\n",
       "    .dataframe thead th {\n",
       "        text-align: right;\n",
       "    }\n",
       "</style>\n",
       "<table border=\"1\" class=\"dataframe\">\n",
       "  <thead>\n",
       "    <tr style=\"text-align: right;\">\n",
       "      <th></th>\n",
       "      <th>emp_no</th>\n",
       "      <th>birth_date</th>\n",
       "      <th>first_name</th>\n",
       "      <th>last_name</th>\n",
       "      <th>gender</th>\n",
       "      <th>hire_date</th>\n",
       "      <th>title</th>\n",
       "      <th>from_date_x</th>\n",
       "      <th>to_date_x</th>\n",
       "      <th>salary</th>\n",
       "      <th>from_date_y</th>\n",
       "      <th>to_date_y</th>\n",
       "    </tr>\n",
       "  </thead>\n",
       "  <tbody>\n",
       "    <tr>\n",
       "      <th>0</th>\n",
       "      <td>10001</td>\n",
       "      <td>1953-09-02</td>\n",
       "      <td>Georgi</td>\n",
       "      <td>Facello</td>\n",
       "      <td>M</td>\n",
       "      <td>1986-06-26</td>\n",
       "      <td>Senior Engineer</td>\n",
       "      <td>1986-06-26</td>\n",
       "      <td>9999-01-01</td>\n",
       "      <td>60117</td>\n",
       "      <td>1986-06-26</td>\n",
       "      <td>1987-06-26</td>\n",
       "    </tr>\n",
       "    <tr>\n",
       "      <th>1</th>\n",
       "      <td>10002</td>\n",
       "      <td>1964-06-02</td>\n",
       "      <td>Bezalel</td>\n",
       "      <td>Simmel</td>\n",
       "      <td>F</td>\n",
       "      <td>1985-11-21</td>\n",
       "      <td>Staff</td>\n",
       "      <td>1996-08-03</td>\n",
       "      <td>9999-01-01</td>\n",
       "      <td>65828</td>\n",
       "      <td>1996-08-03</td>\n",
       "      <td>1997-08-03</td>\n",
       "    </tr>\n",
       "    <tr>\n",
       "      <th>2</th>\n",
       "      <td>10003</td>\n",
       "      <td>1959-12-03</td>\n",
       "      <td>Parto</td>\n",
       "      <td>Bamford</td>\n",
       "      <td>M</td>\n",
       "      <td>1986-08-28</td>\n",
       "      <td>Senior Engineer</td>\n",
       "      <td>1995-12-03</td>\n",
       "      <td>9999-01-01</td>\n",
       "      <td>40006</td>\n",
       "      <td>1995-12-03</td>\n",
       "      <td>1996-12-02</td>\n",
       "    </tr>\n",
       "    <tr>\n",
       "      <th>3</th>\n",
       "      <td>10004</td>\n",
       "      <td>1954-05-01</td>\n",
       "      <td>Chirstian</td>\n",
       "      <td>Koblick</td>\n",
       "      <td>M</td>\n",
       "      <td>1986-12-01</td>\n",
       "      <td>Engineer</td>\n",
       "      <td>1986-12-01</td>\n",
       "      <td>1995-12-01</td>\n",
       "      <td>40054</td>\n",
       "      <td>1986-12-01</td>\n",
       "      <td>1987-12-01</td>\n",
       "    </tr>\n",
       "    <tr>\n",
       "      <th>4</th>\n",
       "      <td>10004</td>\n",
       "      <td>1954-05-01</td>\n",
       "      <td>Chirstian</td>\n",
       "      <td>Koblick</td>\n",
       "      <td>M</td>\n",
       "      <td>1986-12-01</td>\n",
       "      <td>Senior Engineer</td>\n",
       "      <td>1995-12-01</td>\n",
       "      <td>9999-01-01</td>\n",
       "      <td>40054</td>\n",
       "      <td>1986-12-01</td>\n",
       "      <td>1987-12-01</td>\n",
       "    </tr>\n",
       "  </tbody>\n",
       "</table>\n",
       "</div>"
      ],
      "text/plain": [
       "   emp_no  birth_date first_name last_name gender   hire_date  \\\n",
       "0   10001  1953-09-02     Georgi   Facello      M  1986-06-26   \n",
       "1   10002  1964-06-02    Bezalel    Simmel      F  1985-11-21   \n",
       "2   10003  1959-12-03      Parto   Bamford      M  1986-08-28   \n",
       "3   10004  1954-05-01  Chirstian   Koblick      M  1986-12-01   \n",
       "4   10004  1954-05-01  Chirstian   Koblick      M  1986-12-01   \n",
       "\n",
       "             title from_date_x   to_date_x  salary from_date_y   to_date_y  \n",
       "0  Senior Engineer  1986-06-26  9999-01-01   60117  1986-06-26  1987-06-26  \n",
       "1            Staff  1996-08-03  9999-01-01   65828  1996-08-03  1997-08-03  \n",
       "2  Senior Engineer  1995-12-03  9999-01-01   40006  1995-12-03  1996-12-02  \n",
       "3         Engineer  1986-12-01  1995-12-01   40054  1986-12-01  1987-12-01  \n",
       "4  Senior Engineer  1995-12-01  9999-01-01   40054  1986-12-01  1987-12-01  "
      ]
     },
     "execution_count": 6,
     "metadata": {},
     "output_type": "execute_result"
    }
   ],
   "source": [
    "# merge employee, title and salary tables\n",
    "df_merge = pd.merge(df_employees, df_titles, on=\"emp_no\")\n",
    "df_merge = pd.merge(df_merge, df_salaries, on=\"emp_no\")\n",
    "df_merge.head()"
   ]
  },
  {
   "cell_type": "code",
   "execution_count": 7,
   "metadata": {},
   "outputs": [
    {
     "data": {
      "text/html": [
       "<style  type=\"text/css\" >\n",
       "</style><table id=\"T_b4905342_40ac_11ea_83ce_e4b97ab6768b\" ><thead>    <tr>        <th class=\"blank level0\" ></th>        <th class=\"col_heading level0 col0\" >salary</th>    </tr>    <tr>        <th class=\"index_name level0\" >title</th>        <th class=\"blank\" ></th>    </tr></thead><tbody>\n",
       "                <tr>\n",
       "                        <th id=\"T_b4905342_40ac_11ea_83ce_e4b97ab6768blevel0_row0\" class=\"row_heading level0 row0\" >Assistant Engineer</th>\n",
       "                        <td id=\"T_b4905342_40ac_11ea_83ce_e4b97ab6768brow0_col0\" class=\"data row0 col0\" >$48,493</td>\n",
       "            </tr>\n",
       "            <tr>\n",
       "                        <th id=\"T_b4905342_40ac_11ea_83ce_e4b97ab6768blevel0_row1\" class=\"row_heading level0 row1\" >Engineer</th>\n",
       "                        <td id=\"T_b4905342_40ac_11ea_83ce_e4b97ab6768brow1_col0\" class=\"data row1 col0\" >$48,540</td>\n",
       "            </tr>\n",
       "            <tr>\n",
       "                        <th id=\"T_b4905342_40ac_11ea_83ce_e4b97ab6768blevel0_row2\" class=\"row_heading level0 row2\" >Manager</th>\n",
       "                        <td id=\"T_b4905342_40ac_11ea_83ce_e4b97ab6768brow2_col0\" class=\"data row2 col0\" >$51,531</td>\n",
       "            </tr>\n",
       "            <tr>\n",
       "                        <th id=\"T_b4905342_40ac_11ea_83ce_e4b97ab6768blevel0_row3\" class=\"row_heading level0 row3\" >Senior Engineer</th>\n",
       "                        <td id=\"T_b4905342_40ac_11ea_83ce_e4b97ab6768brow3_col0\" class=\"data row3 col0\" >$48,507</td>\n",
       "            </tr>\n",
       "            <tr>\n",
       "                        <th id=\"T_b4905342_40ac_11ea_83ce_e4b97ab6768blevel0_row4\" class=\"row_heading level0 row4\" >Senior Staff</th>\n",
       "                        <td id=\"T_b4905342_40ac_11ea_83ce_e4b97ab6768brow4_col0\" class=\"data row4 col0\" >$58,503</td>\n",
       "            </tr>\n",
       "            <tr>\n",
       "                        <th id=\"T_b4905342_40ac_11ea_83ce_e4b97ab6768blevel0_row5\" class=\"row_heading level0 row5\" >Staff</th>\n",
       "                        <td id=\"T_b4905342_40ac_11ea_83ce_e4b97ab6768brow5_col0\" class=\"data row5 col0\" >$58,465</td>\n",
       "            </tr>\n",
       "            <tr>\n",
       "                        <th id=\"T_b4905342_40ac_11ea_83ce_e4b97ab6768blevel0_row6\" class=\"row_heading level0 row6\" >Technique Leader</th>\n",
       "                        <td id=\"T_b4905342_40ac_11ea_83ce_e4b97ab6768brow6_col0\" class=\"data row6 col0\" >$48,581</td>\n",
       "            </tr>\n",
       "    </tbody></table>"
      ],
      "text/plain": [
       "<pandas.io.formats.style.Styler at 0x25aee2e8b88>"
      ]
     },
     "execution_count": 7,
     "metadata": {},
     "output_type": "execute_result"
    }
   ],
   "source": [
    "# average salary by title\n",
    "avg_salary = df_merge.groupby('title')[['salary']].mean()\n",
    "avg_salary.style.format({\"salary\": \"${:,.0f}\"})"
   ]
  },
  {
   "cell_type": "code",
   "execution_count": 8,
   "metadata": {},
   "outputs": [
    {
     "data": {
      "text/plain": [
       "<Figure size 432x288 with 0 Axes>"
      ]
     },
     "metadata": {},
     "output_type": "display_data"
    },
    {
     "data": {
      "image/png": "[encoded data removed]",
      "text/plain": [
       "<Figure size 576x432 with 1 Axes>"
      ]
     },
     "metadata": {
      "needs_background": "light"
     },
     "output_type": "display_data"
    }
   ],
   "source": [
    "# bar chart\n",
    "fig = plt.figure()\n",
    "avg_salary.plot(kind='bar', figsize=(8,6),)\n",
    "plt.title('Average Salary by Job Title')\n",
    "plt.xlabel('Title')\n",
    "plt.ylabel('Average Salary ($)')\n",
    "\n",
    "# save and show plot\n",
    "plt.tight_layout()\n",
    "plt.savefig('SalaryByTitle.png')\n",
    "plt.show()"
   ]
  },
  {
   "cell_type": "code",
   "execution_count": null,
   "metadata": {},
   "outputs": [],
   "source": []
  }
 ],
 "metadata": {
  "kernelspec": {
   "display_name": "Python 3",
   "language": "python",
   "name": "python3"
  },
  "language_info": {
   "codemirror_mode": {
    "name": "ipython",
    "version": 3
   },
   "file_extension": ".py",
   "mimetype": "text/x-python",
   "name": "python",
   "nbconvert_exporter": "python",
   "pygments_lexer": "ipython3",
   "version": "3.7.4"
  }
 },
 "nbformat": 4,
 "nbformat_minor": 4
}
